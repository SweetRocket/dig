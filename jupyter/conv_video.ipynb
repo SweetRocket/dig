{
 "cells": [
  {
   "attachments": {},
   "cell_type": "markdown",
   "metadata": {},
   "source": [
    "- 라이브러리 로드"
   ]
  },
  {
   "cell_type": "code",
   "execution_count": 1,
   "metadata": {},
   "outputs": [],
   "source": [
    "import cv2\n",
    "import numpy as np"
   ]
  },
  {
   "cell_type": "code",
   "execution_count": 2,
   "metadata": {},
   "outputs": [],
   "source": [
    "import ipywidgets as widgets"
   ]
  },
  {
   "cell_type": "code",
   "execution_count": 3,
   "metadata": {},
   "outputs": [],
   "source": [
    "import torch"
   ]
  },
  {
   "cell_type": "code",
   "execution_count": 4,
   "metadata": {},
   "outputs": [],
   "source": [
    "import cmapy"
   ]
  },
  {
   "attachments": {},
   "cell_type": "markdown",
   "metadata": {},
   "source": [
    "- GPU 설정"
   ]
  },
  {
   "cell_type": "code",
   "execution_count": 5,
   "metadata": {},
   "outputs": [],
   "source": [
    "gpu = 0\n",
    "\n",
    "device = torch.device(f'cuda:{gpu}' if torch.cuda.is_available() else 'cpu')\n",
    "if torch.cuda.is_available():\n",
    "    torch.cuda.set_device(gpu)"
   ]
  },
  {
   "attachments": {},
   "cell_type": "markdown",
   "metadata": {},
   "source": [
    "- 모델 설정"
   ]
  },
  {
   "cell_type": "code",
   "execution_count": 6,
   "metadata": {},
   "outputs": [],
   "source": [
    "model_path_list = {\n",
    "    'handmotion': '../model_flask/models/handmotion/best.pt',\n",
    "    'equip': '../model_flask/models/equip/best.pt',\n",
    "}"
   ]
  },
  {
   "attachments": {},
   "cell_type": "markdown",
   "metadata": {},
   "source": [
    "- 모델 로드"
   ]
  },
  {
   "cell_type": "code",
   "execution_count": 7,
   "metadata": {},
   "outputs": [
    {
     "name": "stderr",
     "output_type": "stream",
     "text": [
      "Downloading: \"https://github.com/ultralytics/yolov5/zipball/master\" to C:\\Users\\kimwo/.cache\\torch\\hub\\master.zip\n",
      "YOLOv5  2023-4-5 Python-3.10.10 torch-2.0.0+cu117 CUDA:0 (NVIDIA GeForce RTX 3050 Ti Laptop GPU, 4096MiB)\n",
      "\n",
      "Fusing layers... \n",
      "YOLOv5s summary: 157 layers, 7018216 parameters, 0 gradients\n",
      "Adding AutoShape... \n",
      "Downloading: \"https://github.com/ultralytics/yolov5/zipball/master\" to C:\\Users\\kimwo/.cache\\torch\\hub\\master.zip\n",
      "YOLOv5  2023-4-5 Python-3.10.10 torch-2.0.0+cu117 CUDA:0 (NVIDIA GeForce RTX 3050 Ti Laptop GPU, 4096MiB)\n",
      "\n",
      "Fusing layers... \n",
      "Model summary: 157 layers, 7026307 parameters, 0 gradients\n",
      "Adding AutoShape... \n"
     ]
    }
   ],
   "source": [
    "models = {}\n",
    "\n",
    "for model_name, model_path in model_path_list.items():\n",
    "   models[model_name] = torch.hub.load('ultralytics/yolov5', 'custom', path=model_path, force_reload=True).to(device)\n",
    "   \n",
    "   if model_name != 'handmotion':\n",
    "       models[model_name].conf = 0.5\n",
    "       models[model_name].iou = 0.5"
   ]
  },
  {
   "attachments": {},
   "cell_type": "markdown",
   "metadata": {},
   "source": [
    "- 컬러맵"
   ]
  },
  {
   "cell_type": "code",
   "execution_count": 8,
   "metadata": {},
   "outputs": [],
   "source": [
    "cmap = cmapy.cmap('nipy_spectral')"
   ]
  },
  {
   "attachments": {},
   "cell_type": "markdown",
   "metadata": {},
   "source": [
    "- background subtraction"
   ]
  },
  {
   "cell_type": "code",
   "execution_count": 9,
   "metadata": {},
   "outputs": [],
   "source": [
    "fgbg = cv2.createBackgroundSubtractorMOG2()"
   ]
  },
  {
   "attachments": {},
   "cell_type": "markdown",
   "metadata": {},
   "source": [
    "- box color"
   ]
  },
  {
   "cell_type": "code",
   "execution_count": 10,
   "metadata": {},
   "outputs": [],
   "source": [
    "box_color = {\n",
    "    'OK': (0, 255, 0),\n",
    "    'NO': (0, 0, 255),\n",
    "    'HAND': (255, 0, 0)\n",
    "}\n",
    "\n",
    "def get_box_color(model, name):\n",
    "    if model in ['equip']:\n",
    "        if 'OK' in name:\n",
    "            return box_color['OK']\n",
    "        return box_color['NO']\n",
    "    if model == 'handmotion':\n",
    "        return box_color['HAND']\n",
    "    return (255, 255, 255)"
   ]
  },
  {
   "attachments": {},
   "cell_type": "markdown",
   "metadata": {},
   "source": [
    "- 파일"
   ]
  },
  {
   "cell_type": "code",
   "execution_count": 11,
   "metadata": {},
   "outputs": [],
   "source": [
    "files = ['KakaoTalk_20230405_161238950.mp4', 'KakaoTalk_20230405_161251064.mp4']"
   ]
  },
  {
   "attachments": {},
   "cell_type": "markdown",
   "metadata": {},
   "source": [
    "- 처리"
   ]
  },
  {
   "cell_type": "code",
   "execution_count": 12,
   "metadata": {},
   "outputs": [],
   "source": [
    "for f in files:\n",
    "    cap = cv2.VideoCapture(f)\n",
    "    \n",
    "    width = int(cap.get(cv2.CAP_PROP_FRAME_WIDTH))\n",
    "    height = int(cap.get(cv2.CAP_PROP_FRAME_HEIGHT))\n",
    "    fps = int(cap.get(cv2.CAP_PROP_FPS))\n",
    "    \n",
    "    out = cv2.VideoWriter(f'./output_{f}', cv2.VideoWriter_fourcc(*'mp4v'), fps, (width, height))\n",
    "\n",
    "    \n",
    "    mhi_history = np.zeros((height, width), dtype=np.int16)\n",
    "    pos = 15\n",
    "    \n",
    "    while True:\n",
    "        ret, frame = cap.read()\n",
    "        if not ret:\n",
    "            cap.release()\n",
    "            cv2.destroyAllWindows()\n",
    "            break\n",
    "            \n",
    "        cv2.waitKey(1)\n",
    "            \n",
    "        cv2.imshow('frame', frame)\n",
    "\n",
    "        fgmask = fgbg.apply(frame)\n",
    "\n",
    "        # make 24 frame of history based on fgmask\n",
    "        mhi_history = np.where(\n",
    "            fgmask == 255, 255 + 15, mhi_history)\n",
    "        mhi_history = np.where(\n",
    "            mhi_history > -100, mhi_history - pos, mhi_history)\n",
    "\n",
    "        # make clip for safety\n",
    "        mhi_history = np.clip(mhi_history, 0, 255)\n",
    "        history_frame = mhi_history.astype(np.uint8)\n",
    "\n",
    "        # color map\n",
    "        color_map_history = cv2.applyColorMap(history_frame, cmap)\n",
    "        \n",
    "        results = []\n",
    "        for model_name, model in models.items():\n",
    "            if model_name == 'handmotion':\n",
    "                result = model(color_map_history)\n",
    "            else:\n",
    "                result = model(frame)\n",
    "\n",
    "            for i in range(len(result.xyxy[0])):\n",
    "                r = result.pandas().xyxy[0].iloc[i, :].values.tolist()\n",
    "                x1, y1, x2, y2, confidence, cls_id, cls_name = r\n",
    "                x1, y1, x2, y2 = int(x1), int(y1), int(x2), int(y2)\n",
    "                confidence, cls_id = float(confidence), int(cls_id)\n",
    "\n",
    "                results.append({\n",
    "                    'x1': x1,\n",
    "                    'y1': y1,\n",
    "                    'x2': x2,\n",
    "                    'y2': y2,\n",
    "                    'confidence': confidence,\n",
    "                    'cls_id': cls_id,\n",
    "                    'cls_name': cls_name,\n",
    "                    'model': model_name,\n",
    "                })\n",
    "        \n",
    "        \n",
    "        fr = frame.copy()\n",
    "\n",
    "        for d in results:\n",
    "            color = get_box_color(d['model'], d['cls_name'])\n",
    "\n",
    "            name = f'{d[\"model\"]}_{d[\"cls_name\"]}, {d[\"confidence\"]:.2f}'\n",
    "\n",
    "            x1, y1, x2, y2 = d['x1'], d['y1'], d['x2'], d['y2']\n",
    "            cv2.rectangle(fr, (x1, y1), (x2, y2), color, 2)\n",
    "            cv2.putText(fr, name, (x1, y1),\n",
    "                        cv2.FONT_HERSHEY_SIMPLEX, 0.5, color, 2)\n",
    "\n",
    "        out.write(fr)\n",
    "        cv2.imshow('proceed_frame', fr)\n",
    "    out.release()\n",
    "    cap.release()\n",
    "    cv2.destroyAllWindows()"
   ]
  },
  {
   "cell_type": "code",
   "execution_count": 13,
   "metadata": {},
   "outputs": [],
   "source": [
    "out.release()\n",
    "cap.release()\n",
    "cv2.destroyAllWindows()"
   ]
  },
  {
   "cell_type": "code",
   "execution_count": 14,
   "metadata": {},
   "outputs": [],
   "source": [
    "cv2.destroyAllWindows()"
   ]
  }
 ],
 "metadata": {
  "kernelspec": {
   "display_name": "venv",
   "language": "python",
   "name": "python3"
  },
  "language_info": {
   "codemirror_mode": {
    "name": "ipython",
    "version": 3
   },
   "file_extension": ".py",
   "mimetype": "text/x-python",
   "name": "python",
   "nbconvert_exporter": "python",
   "pygments_lexer": "ipython3",
   "version": "3.10.10"
  },
  "orig_nbformat": 4
 },
 "nbformat": 4,
 "nbformat_minor": 2
}
